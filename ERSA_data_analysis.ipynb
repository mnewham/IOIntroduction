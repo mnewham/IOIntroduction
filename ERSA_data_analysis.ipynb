{
  "nbformat": 4,
  "nbformat_minor": 0,
  "metadata": {
    "colab": {
      "name": "ERSA_data_analysis.ipynb",
      "provenance": [],
      "collapsed_sections": [],
      "include_colab_link": true
    },
    "kernelspec": {
      "display_name": "R",
      "language": "R",
      "name": "ir"
    },
    "language_info": {
      "codemirror_mode": "r",
      "file_extension": ".r",
      "mimetype": "text/x-r-source",
      "name": "R",
      "pygments_lexer": "r",
      "version": "3.6.1"
    },
    "name": "pandas.ipynb",
    "toc": {
      "base_numbering": 1,
      "nav_menu": {
        "height": "283.333px",
        "width": "309.333px"
      },
      "number_sections": false,
      "sideBar": true,
      "skip_h1_title": true,
      "title_cell": "Table of Contents",
      "title_sidebar": "Contents",
      "toc_cell": false,
      "toc_position": {},
      "toc_section_display": true,
      "toc_window_display": true
    }
  },
  "cells": [
    {
      "cell_type": "markdown",
      "metadata": {
        "id": "view-in-github",
        "colab_type": "text"
      },
      "source": [
        "<a href=\"https://colab.research.google.com/github/mnewham/IOIntroduction/blob/main/ERSA_data_analysis.ipynb\" target=\"_parent\"><img src=\"https://colab.research.google.com/assets/colab-badge.svg\" alt=\"Open In Colab\"/></a>"
      ]
    },
    {
      "cell_type": "markdown",
      "metadata": {
        "id": "5xuBw4kzs4IR"
      },
      "source": [
        "# Analyzing market data in R \r\n",
        "\r\n",
        "In this notebook we will perform some exploratory analysis in R using beer sales data from a collection of retailers around Chicago. You will also learn how to do some basic data cleaning, how to merge datasets together, and how to do some basic plotting.\r\n",
        "\r\n",
        "We will be using a version of the [Dominick’s Dataset](https://www.chicagobooth.edu/research/kilts/datasets/dominicks) available through the Kits Center for Marketing at the University of Chicago. A codebook and further documentation for the Dominick’s Dataset can be found [here](https://www.chicagobooth.edu/-/media/enterprise/centers/kilts/datasets/dominicks-dataset/dominicks-manual-and-codebook_kiltscenter.aspx).\r\n",
        "\r\n",
        "You will need two datasets to complete these tasks. Both files are CSV’s and can be found on Google drive. \r\n",
        "\r\n"
      ]
    },
    {
      "cell_type": "markdown",
      "metadata": {
        "id": "cCISD8b-u5o-"
      },
      "source": [
        "The dataset beer.csv contains movement data for beer sales, by product, for transactions conducted across many Dominick’s stores around Chicago. Data is collected across a roughly 6-year period. This dataset is collapsed at the store-UPC-week level, meaning that each row corresponds to a given product (by UPC) for a given store (by ID) in each week. You can think of each row as giving a summary of transactions for a given product, in each store, in a given week.\r\n",
        "\r\n",
        "* STORE: The ID of the Dominick’s store from which the data was \r\n",
        "collected\r\n",
        "* CITY: The municipality in which the Dominick’s store is located\r\n",
        "* UPC: The UPC of the product. This will be used as a key to merge with the UPC file.\r\n",
        "* WEEK: a number representing the week in which the transactions occurred.\r\n",
        "* QTY: The number of items which were sold in each week.\r\n",
        "* PRICE: The price at which the product was sold.\r\n",
        "* SALES: The total revenue of products sold. Equal to QTY * PRICE."
      ]
    },
    {
      "cell_type": "markdown",
      "metadata": {
        "id": "VkoD-4JVvbAw"
      },
      "source": [
        "The dataset upc_beer.csv contains product information for each UPC in the dataset. The dataset is in collected at the UPC level, one row per product. Below are a few of the important variables.\r\n",
        "\r\n",
        "* UPC: The UPC of the product. This will be used as a key to merge with the beer_upc dataset file.\r\n",
        "* DESCRIP: A string representing a description of the product.\r\n",
        "* SIZE: A string indicating the size of the case of beer. For example, 6/12O indicates 6 cans of 12 oz of beer.\r\n",
        "* UNITS: the number of 12 oz equivalent units of beer associated with this product.\r\n",
        "* BRAND: A string representing the brand of the Beer in question. Many products may be offered by a single brand.\r\n",
        "* COMPANY: A string representing Beer producer’s parent company. Many brands may be owned by a single company. In turn, many companies may be owned by a single parent organization.\r\n",
        "* TYPE: A category variable indicating the type of beer."
      ]
    },
    {
      "cell_type": "markdown",
      "metadata": {
        "ein.tags": "worksheet-0",
        "id": "ai4MRQ6zASrr"
      },
      "source": [
        "# Upload the data to Google collab\n",
        "Start by uploading the required data files to collab. You can do this by navigating to the folder symbol on the left hand side and clicking the first icon \"Upload to session storage\" and selecting the relevant files. The data will now be available for the session. \n"
      ]
    },
    {
      "cell_type": "markdown",
      "metadata": {
        "id": "mcYqlToywg8s"
      },
      "source": [
        "# Install the required libraries"
      ]
    },
    {
      "cell_type": "code",
      "metadata": {
        "scrolled": false,
        "colab": {
          "base_uri": "https://localhost:8080/"
        },
        "id": "gZkHPEsIqqHe",
        "outputId": "19c73808-25c0-4515-ca0d-e8b7dcc83895"
      },
      "source": [
        "library(dplyr) # Import the needed libraries, note: this make take a few minutes\n",
        "install.packages('bit64')"
      ],
      "execution_count": 8,
      "outputs": [
        {
          "output_type": "stream",
          "text": [
            "Installing package into ‘/usr/local/lib/R/site-library’\n",
            "(as ‘lib’ is unspecified)\n",
            "\n"
          ],
          "name": "stderr"
        }
      ]
    },
    {
      "cell_type": "markdown",
      "metadata": {
        "id": "yqZzTg2hwp5X"
      },
      "source": [
        "# Read in the data"
      ]
    },
    {
      "cell_type": "code",
      "metadata": {
        "id": "XVZBNV3KDJ6U",
        "colab": {
          "base_uri": "https://localhost:8080/",
          "height": 278
        },
        "outputId": "34822a05-441b-4c7a-8114-0f8501dd8447"
      },
      "source": [
        "beer <- fread('beer.csv') # read in the beer.csv file\r\n",
        "head(beer) # view the top rows of the data table\r\n",
        "str(beer)\r\n",
        "summary(beer)\r\n",
        "table(beer$CITY)"
      ],
      "execution_count": 9,
      "outputs": [
        {
          "output_type": "display_data",
          "data": {
            "text/plain": [
              "  UPC        STORE CITY         WEEK QTY PRICE SALES\n",
              "1 3410010505 2     RIVER FOREST 149  0   0     0    \n",
              "2 3410010505 2     RIVER FOREST 161  0   0     0    \n",
              "3 3410010505 2     RIVER FOREST 154  0   0     0    \n",
              "4 3410010505 2     RIVER FOREST 126  0   0     0    \n",
              "5 3410010505 2     RIVER FOREST 107  0   0     0    \n",
              "6 3410010505 2     RIVER FOREST 146  0   0     0    "
            ],
            "text/latex": "A data.table: 6 × 7\n\\begin{tabular}{lllllll}\n UPC & STORE & CITY & WEEK & QTY & PRICE & SALES\\\\\n <int64> & <int> & <chr> & <int> & <int> & <dbl> & <dbl>\\\\\n\\hline\n\t 3410010505 & 2 & RIVER FOREST & 149 & 0 & 0 & 0\\\\\n\t 3410010505 & 2 & RIVER FOREST & 161 & 0 & 0 & 0\\\\\n\t 3410010505 & 2 & RIVER FOREST & 154 & 0 & 0 & 0\\\\\n\t 3410010505 & 2 & RIVER FOREST & 126 & 0 & 0 & 0\\\\\n\t 3410010505 & 2 & RIVER FOREST & 107 & 0 & 0 & 0\\\\\n\t 3410010505 & 2 & RIVER FOREST & 146 & 0 & 0 & 0\\\\\n\\end{tabular}\n",
            "text/markdown": "\nA data.table: 6 × 7\n\n| UPC &lt;int64&gt; | STORE &lt;int&gt; | CITY &lt;chr&gt; | WEEK &lt;int&gt; | QTY &lt;int&gt; | PRICE &lt;dbl&gt; | SALES &lt;dbl&gt; |\n|---|---|---|---|---|---|---|\n| 3410010505 | 2 | RIVER FOREST | 149 | 0 | 0 | 0 |\n| 3410010505 | 2 | RIVER FOREST | 161 | 0 | 0 | 0 |\n| 3410010505 | 2 | RIVER FOREST | 154 | 0 | 0 | 0 |\n| 3410010505 | 2 | RIVER FOREST | 126 | 0 | 0 | 0 |\n| 3410010505 | 2 | RIVER FOREST | 107 | 0 | 0 | 0 |\n| 3410010505 | 2 | RIVER FOREST | 146 | 0 | 0 | 0 |\n\n",
            "text/html": [
              "<table class=\"dataframe\">\n",
              "<caption>A data.table: 6 × 7</caption>\n",
              "<thead>\n",
              "\t<tr><th scope=col>UPC</th><th scope=col>STORE</th><th scope=col>CITY</th><th scope=col>WEEK</th><th scope=col>QTY</th><th scope=col>PRICE</th><th scope=col>SALES</th></tr>\n",
              "\t<tr><th scope=col>&lt;int64&gt;</th><th scope=col>&lt;int&gt;</th><th scope=col>&lt;chr&gt;</th><th scope=col>&lt;int&gt;</th><th scope=col>&lt;int&gt;</th><th scope=col>&lt;dbl&gt;</th><th scope=col>&lt;dbl&gt;</th></tr>\n",
              "</thead>\n",
              "<tbody>\n",
              "\t<tr><td>3410010505</td><td>2</td><td>RIVER FOREST</td><td>149</td><td>0</td><td>0</td><td>0</td></tr>\n",
              "\t<tr><td>3410010505</td><td>2</td><td>RIVER FOREST</td><td>161</td><td>0</td><td>0</td><td>0</td></tr>\n",
              "\t<tr><td>3410010505</td><td>2</td><td>RIVER FOREST</td><td>154</td><td>0</td><td>0</td><td>0</td></tr>\n",
              "\t<tr><td>3410010505</td><td>2</td><td>RIVER FOREST</td><td>126</td><td>0</td><td>0</td><td>0</td></tr>\n",
              "\t<tr><td>3410010505</td><td>2</td><td>RIVER FOREST</td><td>107</td><td>0</td><td>0</td><td>0</td></tr>\n",
              "\t<tr><td>3410010505</td><td>2</td><td>RIVER FOREST</td><td>146</td><td>0</td><td>0</td><td>0</td></tr>\n",
              "</tbody>\n",
              "</table>\n"
            ]
          },
          "metadata": {
            "tags": []
          }
        }
      ]
    },
    {
      "cell_type": "code",
      "metadata": {
        "colab": {
          "base_uri": "https://localhost:8080/",
          "height": 278
        },
        "id": "6894B1Xeslb1",
        "outputId": "020ccdec-ae37-4cc7-947b-26a776917990"
      },
      "source": [
        "upc_beer <- fread('upc_beer.csv')\r\n",
        "head(upc_beer)"
      ],
      "execution_count": 10,
      "outputs": [
        {
          "output_type": "display_data",
          "data": {
            "text/plain": [
              "  UPC        DESCRIP              SIZE   UNITS BRAND    COMPANY  TYPE          \n",
              "1 8328000001 GUINESS STOUT        16.9 O 2     GUINNESS \\tDIAGEO Stout / Porter\n",
              "2 8382012455 GUINESS STOUT        16.9 O 2     GUINNESS \\tDIAGEO Stout / Porter\n",
              "3 1969380011 GUINESS STOUT GIFT B 8/12 O 8     GUINNESS \\tDIAGEO Stout / Porter\n",
              "4 8382012360 GUINNESS PUB DRAUGHT 4/15 O 4     GUINNESS \\tDIAGEO Stout / Porter\n",
              "5 8382012393 GUINNESS STOUT N.R.B 6/12 O 6     GUINNESS \\tDIAGEO Stout / Porter\n",
              "6 8382072553 KALIBER NON-ALCH NR  6/12 O 6     KALIBER  \\tDIAGEO Non-alcaholic "
            ],
            "text/latex": "A data.table: 6 × 7\n\\begin{tabular}{lllllll}\n UPC & DESCRIP & SIZE & UNITS & BRAND & COMPANY & TYPE\\\\\n <int64> & <chr> & <chr> & <int> & <chr> & <chr> & <chr>\\\\\n\\hline\n\t 8328000001 & GUINESS STOUT        & 16.9 O & 2 & GUINNESS & \tDIAGEO & Stout / Porter\\\\\n\t 8382012455 & GUINESS STOUT        & 16.9 O & 2 & GUINNESS & \tDIAGEO & Stout / Porter\\\\\n\t 1969380011 & GUINESS STOUT GIFT B & 8/12 O & 8 & GUINNESS & \tDIAGEO & Stout / Porter\\\\\n\t 8382012360 & GUINNESS PUB DRAUGHT & 4/15 O & 4 & GUINNESS & \tDIAGEO & Stout / Porter\\\\\n\t 8382012393 & GUINNESS STOUT N.R.B & 6/12 O & 6 & GUINNESS & \tDIAGEO & Stout / Porter\\\\\n\t 8382072553 & KALIBER NON-ALCH NR  & 6/12 O & 6 & KALIBER  & \tDIAGEO & Non-alcaholic \\\\\n\\end{tabular}\n",
            "text/markdown": "\nA data.table: 6 × 7\n\n| UPC &lt;int64&gt; | DESCRIP &lt;chr&gt; | SIZE &lt;chr&gt; | UNITS &lt;int&gt; | BRAND &lt;chr&gt; | COMPANY &lt;chr&gt; | TYPE &lt;chr&gt; |\n|---|---|---|---|---|---|---|\n| 8328000001 | GUINESS STOUT        | 16.9 O | 2 | GUINNESS | \tDIAGEO | Stout / Porter |\n| 8382012455 | GUINESS STOUT        | 16.9 O | 2 | GUINNESS | \tDIAGEO | Stout / Porter |\n| 1969380011 | GUINESS STOUT GIFT B | 8/12 O | 8 | GUINNESS | \tDIAGEO | Stout / Porter |\n| 8382012360 | GUINNESS PUB DRAUGHT | 4/15 O | 4 | GUINNESS | \tDIAGEO | Stout / Porter |\n| 8382012393 | GUINNESS STOUT N.R.B | 6/12 O | 6 | GUINNESS | \tDIAGEO | Stout / Porter |\n| 8382072553 | KALIBER NON-ALCH NR  | 6/12 O | 6 | KALIBER  | \tDIAGEO | Non-alcaholic  |\n\n",
            "text/html": [
              "<table class=\"dataframe\">\n",
              "<caption>A data.table: 6 × 7</caption>\n",
              "<thead>\n",
              "\t<tr><th scope=col>UPC</th><th scope=col>DESCRIP</th><th scope=col>SIZE</th><th scope=col>UNITS</th><th scope=col>BRAND</th><th scope=col>COMPANY</th><th scope=col>TYPE</th></tr>\n",
              "\t<tr><th scope=col>&lt;int64&gt;</th><th scope=col>&lt;chr&gt;</th><th scope=col>&lt;chr&gt;</th><th scope=col>&lt;int&gt;</th><th scope=col>&lt;chr&gt;</th><th scope=col>&lt;chr&gt;</th><th scope=col>&lt;chr&gt;</th></tr>\n",
              "</thead>\n",
              "<tbody>\n",
              "\t<tr><td>8328000001</td><td>GUINESS STOUT       </td><td>16.9 O</td><td>2</td><td>GUINNESS</td><td>\tDIAGEO</td><td>Stout / Porter</td></tr>\n",
              "\t<tr><td>8382012455</td><td>GUINESS STOUT       </td><td>16.9 O</td><td>2</td><td>GUINNESS</td><td>\tDIAGEO</td><td>Stout / Porter</td></tr>\n",
              "\t<tr><td>1969380011</td><td>GUINESS STOUT GIFT B</td><td>8/12 O</td><td>8</td><td>GUINNESS</td><td>\tDIAGEO</td><td>Stout / Porter</td></tr>\n",
              "\t<tr><td>8382012360</td><td>GUINNESS PUB DRAUGHT</td><td>4/15 O</td><td>4</td><td>GUINNESS</td><td>\tDIAGEO</td><td>Stout / Porter</td></tr>\n",
              "\t<tr><td>8382012393</td><td>GUINNESS STOUT N.R.B</td><td>6/12 O</td><td>6</td><td>GUINNESS</td><td>\tDIAGEO</td><td>Stout / Porter</td></tr>\n",
              "\t<tr><td>8382072553</td><td>KALIBER NON-ALCH NR </td><td>6/12 O</td><td>6</td><td>KALIBER </td><td>\tDIAGEO</td><td>Non-alcaholic </td></tr>\n",
              "</tbody>\n",
              "</table>\n"
            ]
          },
          "metadata": {
            "tags": []
          }
        }
      ]
    },
    {
      "cell_type": "markdown",
      "metadata": {
        "id": "MT5gjoEaw6sE"
      },
      "source": [
        "# Part 1 \r\n",
        "\r\n",
        "First we will explore the data and answer the following questions:\r\n",
        "1. What are total retail sales of beer according to this dataset? \r\n",
        "2. How many items were sold according to this dataset?\r\n",
        "3. What is the average price per item sold?\r\n",
        "4. Which store had the most sales; which store had the least? Where are these stores located?"
      ]
    },
    {
      "cell_type": "code",
      "metadata": {
        "colab": {
          "base_uri": "https://localhost:8080/",
          "height": 34
        },
        "id": "5v5ij6BIASrr",
        "outputId": "6869dff0-13d4-48f6-dcdf-5cebf4363ec5"
      },
      "source": [
        "# Question 1.1 calculate total sales\n",
        "total.sales <- sum(beer$SALES)\n",
        "total.sales"
      ],
      "execution_count": 15,
      "outputs": [
        {
          "output_type": "display_data",
          "data": {
            "text/plain": [
              "[1] 21978996"
            ],
            "text/latex": "21978996.1",
            "text/markdown": "21978996.1",
            "text/html": [
              "21978996.1"
            ]
          },
          "metadata": {
            "tags": []
          }
        }
      ]
    },
    {
      "cell_type": "code",
      "metadata": {
        "colab": {
          "base_uri": "https://localhost:8080/",
          "height": 34
        },
        "id": "Eu0-C6GxzizI",
        "outputId": "4e999935-4728-4125-fa35-518df3028b9f"
      },
      "source": [
        "# Question 1.2 calculate total quantity\r\n",
        "total.qty <- sum(beer$QTY)\r\n",
        "total.qty"
      ],
      "execution_count": 16,
      "outputs": [
        {
          "output_type": "display_data",
          "data": {
            "text/plain": [
              "[1] 4031855"
            ],
            "text/latex": "4031855",
            "text/markdown": "4031855",
            "text/html": [
              "4031855"
            ]
          },
          "metadata": {
            "tags": []
          }
        }
      ]
    },
    {
      "cell_type": "code",
      "metadata": {
        "colab": {
          "base_uri": "https://localhost:8080/",
          "height": 34
        },
        "id": "Sy_3VMAfzyqO",
        "outputId": "42b3d536-6af3-4cac-9083-b711829ae368"
      },
      "source": [
        "# Question 1.3 calculate average price per item\r\n",
        "average.price = sum(beer$SALES) / sum(beer$QTY)\r\n",
        "average.price"
      ],
      "execution_count": 17,
      "outputs": [
        {
          "output_type": "display_data",
          "data": {
            "text/plain": [
              "[1] 5.451336"
            ],
            "text/latex": "5.45133594834139",
            "text/markdown": "5.45133594834139",
            "text/html": [
              "5.45133594834139"
            ]
          },
          "metadata": {
            "tags": []
          }
        }
      ]
    },
    {
      "cell_type": "code",
      "metadata": {
        "colab": {
          "base_uri": "https://localhost:8080/",
          "height": 538
        },
        "id": "DErhNcDh2h1W",
        "outputId": "6859477a-89c2-4f3c-a83e-ec0d832d7ebb"
      },
      "source": [
        "# Question 1.4 Calculate sales by store\r\n",
        "\r\n",
        "beer <- group_by(beer, STORE) # Tell dplyr which variable to aggregate by\r\n",
        "store.sales <- summarize(beer, SALES = sum(SALES)) # Aggregate and include a firm sales as the sum of product-level sales\r\n",
        "store.sales <- arrange(store.sales, desc(SALES)) # Sort by largest firm\r\n",
        "head(store.sales) \r\n",
        "tail(store.sales)"
      ],
      "execution_count": 35,
      "outputs": [
        {
          "output_type": "display_data",
          "data": {
            "text/plain": [
              "  STORE SALES   \n",
              "1 103   786986.6\n",
              "2 126   570534.6\n",
              "3 100   567555.6\n",
              "4 134   564091.9\n",
              "5 128   557442.2\n",
              "6 102   533787.4"
            ],
            "text/latex": "A tibble: 6 × 2\n\\begin{tabular}{ll}\n STORE & SALES\\\\\n <int> & <dbl>\\\\\n\\hline\n\t 103 & 786986.6\\\\\n\t 126 & 570534.6\\\\\n\t 100 & 567555.6\\\\\n\t 134 & 564091.9\\\\\n\t 128 & 557442.2\\\\\n\t 102 & 533787.4\\\\\n\\end{tabular}\n",
            "text/markdown": "\nA tibble: 6 × 2\n\n| STORE &lt;int&gt; | SALES &lt;dbl&gt; |\n|---|---|\n| 103 | 786986.6 |\n| 126 | 570534.6 |\n| 100 | 567555.6 |\n| 134 | 564091.9 |\n| 128 | 557442.2 |\n| 102 | 533787.4 |\n\n",
            "text/html": [
              "<table class=\"dataframe\">\n",
              "<caption>A tibble: 6 × 2</caption>\n",
              "<thead>\n",
              "\t<tr><th scope=col>STORE</th><th scope=col>SALES</th></tr>\n",
              "\t<tr><th scope=col>&lt;int&gt;</th><th scope=col>&lt;dbl&gt;</th></tr>\n",
              "</thead>\n",
              "<tbody>\n",
              "\t<tr><td>103</td><td>786986.6</td></tr>\n",
              "\t<tr><td>126</td><td>570534.6</td></tr>\n",
              "\t<tr><td>100</td><td>567555.6</td></tr>\n",
              "\t<tr><td>134</td><td>564091.9</td></tr>\n",
              "\t<tr><td>128</td><td>557442.2</td></tr>\n",
              "\t<tr><td>102</td><td>533787.4</td></tr>\n",
              "</tbody>\n",
              "</table>\n"
            ]
          },
          "metadata": {
            "tags": []
          }
        },
        {
          "output_type": "display_data",
          "data": {
            "text/plain": [
              "  STORE SALES  \n",
              "1 140   5466.52\n",
              "2 142   4839.24\n",
              "3 141   4110.18\n",
              "4  88   3223.84\n",
              "5 146   2379.22\n",
              "6   2    181.80"
            ],
            "text/latex": "A tibble: 6 × 2\n\\begin{tabular}{ll}\n STORE & SALES\\\\\n <int> & <dbl>\\\\\n\\hline\n\t 140 & 5466.52\\\\\n\t 142 & 4839.24\\\\\n\t 141 & 4110.18\\\\\n\t  88 & 3223.84\\\\\n\t 146 & 2379.22\\\\\n\t   2 &  181.80\\\\\n\\end{tabular}\n",
            "text/markdown": "\nA tibble: 6 × 2\n\n| STORE &lt;int&gt; | SALES &lt;dbl&gt; |\n|---|---|\n| 140 | 5466.52 |\n| 142 | 4839.24 |\n| 141 | 4110.18 |\n|  88 | 3223.84 |\n| 146 | 2379.22 |\n|   2 |  181.80 |\n\n",
            "text/html": [
              "<table class=\"dataframe\">\n",
              "<caption>A tibble: 6 × 2</caption>\n",
              "<thead>\n",
              "\t<tr><th scope=col>STORE</th><th scope=col>SALES</th></tr>\n",
              "\t<tr><th scope=col>&lt;int&gt;</th><th scope=col>&lt;dbl&gt;</th></tr>\n",
              "</thead>\n",
              "<tbody>\n",
              "\t<tr><td>140</td><td>5466.52</td></tr>\n",
              "\t<tr><td>142</td><td>4839.24</td></tr>\n",
              "\t<tr><td>141</td><td>4110.18</td></tr>\n",
              "\t<tr><td> 88</td><td>3223.84</td></tr>\n",
              "\t<tr><td>146</td><td>2379.22</td></tr>\n",
              "\t<tr><td>  2</td><td> 181.80</td></tr>\n",
              "</tbody>\n",
              "</table>\n"
            ]
          },
          "metadata": {
            "tags": []
          }
        }
      ]
    },
    {
      "cell_type": "code",
      "metadata": {
        "colab": {
          "base_uri": "https://localhost:8080/",
          "height": 269
        },
        "id": "SBtdbKhP3JpN",
        "outputId": "2d581e7c-f22e-4f11-a20e-dd08d1eb8d24"
      },
      "source": [
        "store.sales[which.max(store.sales$SALES),]\r\n",
        "beer$CITY[beer$STORE==103][1]\r\n",
        "# Store 103 (BOLINGBROOK) has the most sales\r\n",
        "\r\n",
        "store.sales[which.min(store.sales$SALES),]\r\n",
        "beer$CITY[beer$STORE==2][1]\r\n",
        "# Store 2 (RIVER FOREST) has the least sales"
      ],
      "execution_count": 36,
      "outputs": [
        {
          "output_type": "display_data",
          "data": {
            "text/plain": [
              "  STORE SALES   \n",
              "1 103   786986.6"
            ],
            "text/latex": "A tibble: 1 × 2\n\\begin{tabular}{ll}\n STORE & SALES\\\\\n <int> & <dbl>\\\\\n\\hline\n\t 103 & 786986.6\\\\\n\\end{tabular}\n",
            "text/markdown": "\nA tibble: 1 × 2\n\n| STORE &lt;int&gt; | SALES &lt;dbl&gt; |\n|---|---|\n| 103 | 786986.6 |\n\n",
            "text/html": [
              "<table class=\"dataframe\">\n",
              "<caption>A tibble: 1 × 2</caption>\n",
              "<thead>\n",
              "\t<tr><th scope=col>STORE</th><th scope=col>SALES</th></tr>\n",
              "\t<tr><th scope=col>&lt;int&gt;</th><th scope=col>&lt;dbl&gt;</th></tr>\n",
              "</thead>\n",
              "<tbody>\n",
              "\t<tr><td>103</td><td>786986.6</td></tr>\n",
              "</tbody>\n",
              "</table>\n"
            ]
          },
          "metadata": {
            "tags": []
          }
        },
        {
          "output_type": "display_data",
          "data": {
            "text/plain": [
              "[1] \"BOLINGBROOK\""
            ],
            "text/latex": "'BOLINGBROOK'",
            "text/markdown": "'BOLINGBROOK'",
            "text/html": [
              "'BOLINGBROOK'"
            ]
          },
          "metadata": {
            "tags": []
          }
        },
        {
          "output_type": "display_data",
          "data": {
            "text/plain": [
              "  STORE SALES\n",
              "1 2     181.8"
            ],
            "text/latex": "A tibble: 1 × 2\n\\begin{tabular}{ll}\n STORE & SALES\\\\\n <int> & <dbl>\\\\\n\\hline\n\t 2 & 181.8\\\\\n\\end{tabular}\n",
            "text/markdown": "\nA tibble: 1 × 2\n\n| STORE &lt;int&gt; | SALES &lt;dbl&gt; |\n|---|---|\n| 2 | 181.8 |\n\n",
            "text/html": [
              "<table class=\"dataframe\">\n",
              "<caption>A tibble: 1 × 2</caption>\n",
              "<thead>\n",
              "\t<tr><th scope=col>STORE</th><th scope=col>SALES</th></tr>\n",
              "\t<tr><th scope=col>&lt;int&gt;</th><th scope=col>&lt;dbl&gt;</th></tr>\n",
              "</thead>\n",
              "<tbody>\n",
              "\t<tr><td>2</td><td>181.8</td></tr>\n",
              "</tbody>\n",
              "</table>\n"
            ]
          },
          "metadata": {
            "tags": []
          }
        },
        {
          "output_type": "display_data",
          "data": {
            "text/plain": [
              "[1] \"RIVER FOREST\""
            ],
            "text/latex": "'RIVER FOREST'",
            "text/markdown": "'RIVER FOREST'",
            "text/html": [
              "'RIVER FOREST'"
            ]
          },
          "metadata": {
            "tags": []
          }
        }
      ]
    },
    {
      "cell_type": "markdown",
      "metadata": {
        "id": "cDka6xpP55eS"
      },
      "source": [
        "# Part 2\r\n",
        "\r\n",
        "Using the merge function, combine the two datasets by the common variable – UPC -- in order to create a unified dataset of beer sales that includes product data. Label this unified dataset beer.data. For help on how to use the merge function, type ?merge into the R console. This will bring up documentation for the function.\r\n",
        "\r\n",
        "The beer.upc file contains variables to indicate the beer’s brand as well as the parent company of the beer producer. Additionally, each UPC is tagged with a units variable which indicates the number of 12-oz equivalent units being sold (a “12 pack” would have units == 12, a “30 rack” would have units == 30, etc.).\r\n",
        "\r\n",
        "After the merge, you have a store-week- UPC level dataset with information about each product (by UPC). Before proceeding, you should create a total.units variable by multiplying the qty and units variables together. This creates a variable which measures how many units of beer are sold.\r\n",
        "\r\n",
        "1. Using the total.units variable you created, what is the average price of a 12 oz unit of beer.\r\n",
        "2. What is the most popular type of beer, by sales, observed in the sample (Light Lager, Dark Ale, Stout, etc)? What is the second most popular?\r\n",
        "3. What are the top five most popular brands by total sales.\r\n",
        "4. What is the highest-sales brand of beer for each type? What’s the top selling Light Lager, Dark Ale, etc."
      ]
    },
    {
      "cell_type": "code",
      "metadata": {
        "id": "3u-4s0XD7_K_"
      },
      "source": [
        "beer.data = merge(upc_beer, beer, on=\"UPC\")"
      ],
      "execution_count": 37,
      "outputs": []
    },
    {
      "cell_type": "code",
      "metadata": {
        "colab": {
          "base_uri": "https://localhost:8080/",
          "height": 380
        },
        "id": "m7GUB5p78cg-",
        "outputId": "d8837adf-e891-40b1-c368-c30dcfa302ee"
      },
      "source": [
        "tail(beer.data)"
      ],
      "execution_count": 44,
      "outputs": [
        {
          "output_type": "display_data",
          "data": {
            "text/plain": [
              "  UPC        DESCRIP              SIZE   UNITS BRAND  COMPANY      TYPE      \n",
              "1 3410016505 MILLER RESERVE LT LN 6/12 O 6     MILLER MILLER-COORS Pale Lager\n",
              "2 3410016505 MILLER RESERVE LT LN 6/12 O 6     MILLER MILLER-COORS Pale Lager\n",
              "3 3410016505 MILLER RESERVE LT LN 6/12 O 6     MILLER MILLER-COORS Pale Lager\n",
              "4 3410016505 MILLER RESERVE LT LN 6/12 O 6     MILLER MILLER-COORS Pale Lager\n",
              "5 3410016505 MILLER RESERVE LT LN 6/12 O 6     MILLER MILLER-COORS Pale Lager\n",
              "6 3410016505 MILLER RESERVE LT LN 6/12 O 6     MILLER MILLER-COORS Pale Lager\n",
              "  STORE CITY          WEEK QTY PRICE SALES total.units\n",
              "1 51    PALOS HEIGHTS 163  1   3.49  3.49  6          \n",
              "2 51    PALOS HEIGHTS 218  0   0.00  0.00  0          \n",
              "3 53    CHICAGO        93  0   0.00  0.00  0          \n",
              "4 53    CHICAGO        94  0   0.00  0.00  0          \n",
              "5 53    CHICAGO        91  0   0.00  0.00  0          \n",
              "6 53    CHICAGO        92  0   0.00  0.00  0          "
            ],
            "text/latex": "A data.table: 6 × 14\n\\begin{tabular}{llllllllllllll}\n UPC & DESCRIP & SIZE & UNITS & BRAND & COMPANY & TYPE & STORE & CITY & WEEK & QTY & PRICE & SALES & total.units\\\\\n <int64> & <chr> & <chr> & <int> & <chr> & <chr> & <chr> & <int> & <chr> & <int> & <int> & <dbl> & <dbl> & <int>\\\\\n\\hline\n\t 3410016505 & MILLER RESERVE LT LN & 6/12 O & 6 & MILLER & MILLER-COORS & Pale Lager & 51 & PALOS HEIGHTS & 163 & 1 & 3.49 & 3.49 & 6\\\\\n\t 3410016505 & MILLER RESERVE LT LN & 6/12 O & 6 & MILLER & MILLER-COORS & Pale Lager & 51 & PALOS HEIGHTS & 218 & 0 & 0.00 & 0.00 & 0\\\\\n\t 3410016505 & MILLER RESERVE LT LN & 6/12 O & 6 & MILLER & MILLER-COORS & Pale Lager & 53 & CHICAGO       &  93 & 0 & 0.00 & 0.00 & 0\\\\\n\t 3410016505 & MILLER RESERVE LT LN & 6/12 O & 6 & MILLER & MILLER-COORS & Pale Lager & 53 & CHICAGO       &  94 & 0 & 0.00 & 0.00 & 0\\\\\n\t 3410016505 & MILLER RESERVE LT LN & 6/12 O & 6 & MILLER & MILLER-COORS & Pale Lager & 53 & CHICAGO       &  91 & 0 & 0.00 & 0.00 & 0\\\\\n\t 3410016505 & MILLER RESERVE LT LN & 6/12 O & 6 & MILLER & MILLER-COORS & Pale Lager & 53 & CHICAGO       &  92 & 0 & 0.00 & 0.00 & 0\\\\\n\\end{tabular}\n",
            "text/markdown": "\nA data.table: 6 × 14\n\n| UPC &lt;int64&gt; | DESCRIP &lt;chr&gt; | SIZE &lt;chr&gt; | UNITS &lt;int&gt; | BRAND &lt;chr&gt; | COMPANY &lt;chr&gt; | TYPE &lt;chr&gt; | STORE &lt;int&gt; | CITY &lt;chr&gt; | WEEK &lt;int&gt; | QTY &lt;int&gt; | PRICE &lt;dbl&gt; | SALES &lt;dbl&gt; | total.units &lt;int&gt; |\n|---|---|---|---|---|---|---|---|---|---|---|---|---|---|\n| 3410016505 | MILLER RESERVE LT LN | 6/12 O | 6 | MILLER | MILLER-COORS | Pale Lager | 51 | PALOS HEIGHTS | 163 | 1 | 3.49 | 3.49 | 6 |\n| 3410016505 | MILLER RESERVE LT LN | 6/12 O | 6 | MILLER | MILLER-COORS | Pale Lager | 51 | PALOS HEIGHTS | 218 | 0 | 0.00 | 0.00 | 0 |\n| 3410016505 | MILLER RESERVE LT LN | 6/12 O | 6 | MILLER | MILLER-COORS | Pale Lager | 53 | CHICAGO       |  93 | 0 | 0.00 | 0.00 | 0 |\n| 3410016505 | MILLER RESERVE LT LN | 6/12 O | 6 | MILLER | MILLER-COORS | Pale Lager | 53 | CHICAGO       |  94 | 0 | 0.00 | 0.00 | 0 |\n| 3410016505 | MILLER RESERVE LT LN | 6/12 O | 6 | MILLER | MILLER-COORS | Pale Lager | 53 | CHICAGO       |  91 | 0 | 0.00 | 0.00 | 0 |\n| 3410016505 | MILLER RESERVE LT LN | 6/12 O | 6 | MILLER | MILLER-COORS | Pale Lager | 53 | CHICAGO       |  92 | 0 | 0.00 | 0.00 | 0 |\n\n",
            "text/html": [
              "<table class=\"dataframe\">\n",
              "<caption>A data.table: 6 × 14</caption>\n",
              "<thead>\n",
              "\t<tr><th scope=col>UPC</th><th scope=col>DESCRIP</th><th scope=col>SIZE</th><th scope=col>UNITS</th><th scope=col>BRAND</th><th scope=col>COMPANY</th><th scope=col>TYPE</th><th scope=col>STORE</th><th scope=col>CITY</th><th scope=col>WEEK</th><th scope=col>QTY</th><th scope=col>PRICE</th><th scope=col>SALES</th><th scope=col>total.units</th></tr>\n",
              "\t<tr><th scope=col>&lt;int64&gt;</th><th scope=col>&lt;chr&gt;</th><th scope=col>&lt;chr&gt;</th><th scope=col>&lt;int&gt;</th><th scope=col>&lt;chr&gt;</th><th scope=col>&lt;chr&gt;</th><th scope=col>&lt;chr&gt;</th><th scope=col>&lt;int&gt;</th><th scope=col>&lt;chr&gt;</th><th scope=col>&lt;int&gt;</th><th scope=col>&lt;int&gt;</th><th scope=col>&lt;dbl&gt;</th><th scope=col>&lt;dbl&gt;</th><th scope=col>&lt;int&gt;</th></tr>\n",
              "</thead>\n",
              "<tbody>\n",
              "\t<tr><td>3410016505</td><td>MILLER RESERVE LT LN</td><td>6/12 O</td><td>6</td><td>MILLER</td><td>MILLER-COORS</td><td>Pale Lager</td><td>51</td><td>PALOS HEIGHTS</td><td>163</td><td>1</td><td>3.49</td><td>3.49</td><td>6</td></tr>\n",
              "\t<tr><td>3410016505</td><td>MILLER RESERVE LT LN</td><td>6/12 O</td><td>6</td><td>MILLER</td><td>MILLER-COORS</td><td>Pale Lager</td><td>51</td><td>PALOS HEIGHTS</td><td>218</td><td>0</td><td>0.00</td><td>0.00</td><td>0</td></tr>\n",
              "\t<tr><td>3410016505</td><td>MILLER RESERVE LT LN</td><td>6/12 O</td><td>6</td><td>MILLER</td><td>MILLER-COORS</td><td>Pale Lager</td><td>53</td><td>CHICAGO      </td><td> 93</td><td>0</td><td>0.00</td><td>0.00</td><td>0</td></tr>\n",
              "\t<tr><td>3410016505</td><td>MILLER RESERVE LT LN</td><td>6/12 O</td><td>6</td><td>MILLER</td><td>MILLER-COORS</td><td>Pale Lager</td><td>53</td><td>CHICAGO      </td><td> 94</td><td>0</td><td>0.00</td><td>0.00</td><td>0</td></tr>\n",
              "\t<tr><td>3410016505</td><td>MILLER RESERVE LT LN</td><td>6/12 O</td><td>6</td><td>MILLER</td><td>MILLER-COORS</td><td>Pale Lager</td><td>53</td><td>CHICAGO      </td><td> 91</td><td>0</td><td>0.00</td><td>0.00</td><td>0</td></tr>\n",
              "\t<tr><td>3410016505</td><td>MILLER RESERVE LT LN</td><td>6/12 O</td><td>6</td><td>MILLER</td><td>MILLER-COORS</td><td>Pale Lager</td><td>53</td><td>CHICAGO      </td><td> 92</td><td>0</td><td>0.00</td><td>0.00</td><td>0</td></tr>\n",
              "</tbody>\n",
              "</table>\n"
            ]
          },
          "metadata": {
            "tags": []
          }
        }
      ]
    },
    {
      "cell_type": "code",
      "metadata": {
        "colab": {
          "base_uri": "https://localhost:8080/",
          "height": 34
        },
        "id": "_SxN9F1R8Gf4",
        "outputId": "56f4271d-9017-4968-87a9-d0895d1a9ec1"
      },
      "source": [
        "# 2.1: Calculate average 12-oz beer price\r\n",
        "beer.data$total.units <- beer.data$UNITS*beer.data$QTY \r\n",
        "sum(beer.data$SALES) / sum(beer.data$total.units)\r\n",
        "# Average price per 12-oz unit is 0.5077 "
      ],
      "execution_count": 43,
      "outputs": [
        {
          "output_type": "display_data",
          "data": {
            "text/plain": [
              "[1] 0.5077492"
            ],
            "text/latex": "0.507749226218826",
            "text/markdown": "0.507749226218826",
            "text/html": [
              "0.507749226218826"
            ]
          },
          "metadata": {
            "tags": []
          }
        }
      ]
    },
    {
      "cell_type": "code",
      "metadata": {
        "colab": {
          "base_uri": "https://localhost:8080/",
          "height": 380
        },
        "id": "k5c2DZex9gZw",
        "outputId": "fbe543ce-028b-469c-cc73-831221ef777e"
      },
      "source": [
        "tail(beer.data)"
      ],
      "execution_count": 42,
      "outputs": [
        {
          "output_type": "display_data",
          "data": {
            "text/plain": [
              "  UPC        DESCRIP              SIZE   UNITS BRAND  COMPANY      TYPE      \n",
              "1 3410016505 MILLER RESERVE LT LN 6/12 O 6     MILLER MILLER-COORS Pale Lager\n",
              "2 3410016505 MILLER RESERVE LT LN 6/12 O 6     MILLER MILLER-COORS Pale Lager\n",
              "3 3410016505 MILLER RESERVE LT LN 6/12 O 6     MILLER MILLER-COORS Pale Lager\n",
              "4 3410016505 MILLER RESERVE LT LN 6/12 O 6     MILLER MILLER-COORS Pale Lager\n",
              "5 3410016505 MILLER RESERVE LT LN 6/12 O 6     MILLER MILLER-COORS Pale Lager\n",
              "6 3410016505 MILLER RESERVE LT LN 6/12 O 6     MILLER MILLER-COORS Pale Lager\n",
              "  STORE CITY          WEEK QTY PRICE SALES total.units\n",
              "1 51    PALOS HEIGHTS 163  1   3.49  3.49  6          \n",
              "2 51    PALOS HEIGHTS 218  0   0.00  0.00  0          \n",
              "3 53    CHICAGO        93  0   0.00  0.00  0          \n",
              "4 53    CHICAGO        94  0   0.00  0.00  0          \n",
              "5 53    CHICAGO        91  0   0.00  0.00  0          \n",
              "6 53    CHICAGO        92  0   0.00  0.00  0          "
            ],
            "text/latex": "A data.table: 6 × 14\n\\begin{tabular}{llllllllllllll}\n UPC & DESCRIP & SIZE & UNITS & BRAND & COMPANY & TYPE & STORE & CITY & WEEK & QTY & PRICE & SALES & total.units\\\\\n <int64> & <chr> & <chr> & <int> & <chr> & <chr> & <chr> & <int> & <chr> & <int> & <int> & <dbl> & <dbl> & <int>\\\\\n\\hline\n\t 3410016505 & MILLER RESERVE LT LN & 6/12 O & 6 & MILLER & MILLER-COORS & Pale Lager & 51 & PALOS HEIGHTS & 163 & 1 & 3.49 & 3.49 & 6\\\\\n\t 3410016505 & MILLER RESERVE LT LN & 6/12 O & 6 & MILLER & MILLER-COORS & Pale Lager & 51 & PALOS HEIGHTS & 218 & 0 & 0.00 & 0.00 & 0\\\\\n\t 3410016505 & MILLER RESERVE LT LN & 6/12 O & 6 & MILLER & MILLER-COORS & Pale Lager & 53 & CHICAGO       &  93 & 0 & 0.00 & 0.00 & 0\\\\\n\t 3410016505 & MILLER RESERVE LT LN & 6/12 O & 6 & MILLER & MILLER-COORS & Pale Lager & 53 & CHICAGO       &  94 & 0 & 0.00 & 0.00 & 0\\\\\n\t 3410016505 & MILLER RESERVE LT LN & 6/12 O & 6 & MILLER & MILLER-COORS & Pale Lager & 53 & CHICAGO       &  91 & 0 & 0.00 & 0.00 & 0\\\\\n\t 3410016505 & MILLER RESERVE LT LN & 6/12 O & 6 & MILLER & MILLER-COORS & Pale Lager & 53 & CHICAGO       &  92 & 0 & 0.00 & 0.00 & 0\\\\\n\\end{tabular}\n",
            "text/markdown": "\nA data.table: 6 × 14\n\n| UPC &lt;int64&gt; | DESCRIP &lt;chr&gt; | SIZE &lt;chr&gt; | UNITS &lt;int&gt; | BRAND &lt;chr&gt; | COMPANY &lt;chr&gt; | TYPE &lt;chr&gt; | STORE &lt;int&gt; | CITY &lt;chr&gt; | WEEK &lt;int&gt; | QTY &lt;int&gt; | PRICE &lt;dbl&gt; | SALES &lt;dbl&gt; | total.units &lt;int&gt; |\n|---|---|---|---|---|---|---|---|---|---|---|---|---|---|\n| 3410016505 | MILLER RESERVE LT LN | 6/12 O | 6 | MILLER | MILLER-COORS | Pale Lager | 51 | PALOS HEIGHTS | 163 | 1 | 3.49 | 3.49 | 6 |\n| 3410016505 | MILLER RESERVE LT LN | 6/12 O | 6 | MILLER | MILLER-COORS | Pale Lager | 51 | PALOS HEIGHTS | 218 | 0 | 0.00 | 0.00 | 0 |\n| 3410016505 | MILLER RESERVE LT LN | 6/12 O | 6 | MILLER | MILLER-COORS | Pale Lager | 53 | CHICAGO       |  93 | 0 | 0.00 | 0.00 | 0 |\n| 3410016505 | MILLER RESERVE LT LN | 6/12 O | 6 | MILLER | MILLER-COORS | Pale Lager | 53 | CHICAGO       |  94 | 0 | 0.00 | 0.00 | 0 |\n| 3410016505 | MILLER RESERVE LT LN | 6/12 O | 6 | MILLER | MILLER-COORS | Pale Lager | 53 | CHICAGO       |  91 | 0 | 0.00 | 0.00 | 0 |\n| 3410016505 | MILLER RESERVE LT LN | 6/12 O | 6 | MILLER | MILLER-COORS | Pale Lager | 53 | CHICAGO       |  92 | 0 | 0.00 | 0.00 | 0 |\n\n",
            "text/html": [
              "<table class=\"dataframe\">\n",
              "<caption>A data.table: 6 × 14</caption>\n",
              "<thead>\n",
              "\t<tr><th scope=col>UPC</th><th scope=col>DESCRIP</th><th scope=col>SIZE</th><th scope=col>UNITS</th><th scope=col>BRAND</th><th scope=col>COMPANY</th><th scope=col>TYPE</th><th scope=col>STORE</th><th scope=col>CITY</th><th scope=col>WEEK</th><th scope=col>QTY</th><th scope=col>PRICE</th><th scope=col>SALES</th><th scope=col>total.units</th></tr>\n",
              "\t<tr><th scope=col>&lt;int64&gt;</th><th scope=col>&lt;chr&gt;</th><th scope=col>&lt;chr&gt;</th><th scope=col>&lt;int&gt;</th><th scope=col>&lt;chr&gt;</th><th scope=col>&lt;chr&gt;</th><th scope=col>&lt;chr&gt;</th><th scope=col>&lt;int&gt;</th><th scope=col>&lt;chr&gt;</th><th scope=col>&lt;int&gt;</th><th scope=col>&lt;int&gt;</th><th scope=col>&lt;dbl&gt;</th><th scope=col>&lt;dbl&gt;</th><th scope=col>&lt;int&gt;</th></tr>\n",
              "</thead>\n",
              "<tbody>\n",
              "\t<tr><td>3410016505</td><td>MILLER RESERVE LT LN</td><td>6/12 O</td><td>6</td><td>MILLER</td><td>MILLER-COORS</td><td>Pale Lager</td><td>51</td><td>PALOS HEIGHTS</td><td>163</td><td>1</td><td>3.49</td><td>3.49</td><td>6</td></tr>\n",
              "\t<tr><td>3410016505</td><td>MILLER RESERVE LT LN</td><td>6/12 O</td><td>6</td><td>MILLER</td><td>MILLER-COORS</td><td>Pale Lager</td><td>51</td><td>PALOS HEIGHTS</td><td>218</td><td>0</td><td>0.00</td><td>0.00</td><td>0</td></tr>\n",
              "\t<tr><td>3410016505</td><td>MILLER RESERVE LT LN</td><td>6/12 O</td><td>6</td><td>MILLER</td><td>MILLER-COORS</td><td>Pale Lager</td><td>53</td><td>CHICAGO      </td><td> 93</td><td>0</td><td>0.00</td><td>0.00</td><td>0</td></tr>\n",
              "\t<tr><td>3410016505</td><td>MILLER RESERVE LT LN</td><td>6/12 O</td><td>6</td><td>MILLER</td><td>MILLER-COORS</td><td>Pale Lager</td><td>53</td><td>CHICAGO      </td><td> 94</td><td>0</td><td>0.00</td><td>0.00</td><td>0</td></tr>\n",
              "\t<tr><td>3410016505</td><td>MILLER RESERVE LT LN</td><td>6/12 O</td><td>6</td><td>MILLER</td><td>MILLER-COORS</td><td>Pale Lager</td><td>53</td><td>CHICAGO      </td><td> 91</td><td>0</td><td>0.00</td><td>0.00</td><td>0</td></tr>\n",
              "\t<tr><td>3410016505</td><td>MILLER RESERVE LT LN</td><td>6/12 O</td><td>6</td><td>MILLER</td><td>MILLER-COORS</td><td>Pale Lager</td><td>53</td><td>CHICAGO      </td><td> 92</td><td>0</td><td>0.00</td><td>0.00</td><td>0</td></tr>\n",
              "</tbody>\n",
              "</table>\n"
            ]
          },
          "metadata": {
            "tags": []
          }
        }
      ]
    },
    {
      "cell_type": "code",
      "metadata": {
        "colab": {
          "base_uri": "https://localhost:8080/"
        },
        "id": "URCHFsHo9ElT",
        "outputId": "72dda565-aa4e-4445-945b-c03e77d27f53"
      },
      "source": [
        "# 2.2: Calculate the most popular type of beer\r\n",
        "\r\n",
        "type.sales <- aggregate(beer.data$SALES, by=list(Category=beer.data$TYPE), FUN=sum)\r\n",
        "type.sales <- type.sales[order(-type.sales$x),]\r\n",
        "print(type.sales)\r\n",
        "\r\n",
        "# Most popular beer is Pale Lager"
      ],
      "execution_count": 45,
      "outputs": [
        {
          "output_type": "stream",
          "text": [
            "         Category           x\n",
            "9      Pale Lager 20726374.15\n",
            "6   Non-alcaholic  1036952.94\n",
            "4      Dark Lager   119302.00\n",
            "3        Dark Ale    43271.24\n",
            "10 Stout / Porter    19983.99\n",
            "5     Malt Liquor    15692.11\n",
            "8        Pale Ale     9933.88\n",
            "2           Cider     6052.30\n",
            "7           Other     1047.90\n",
            "1       Amber Ale      385.59\n"
          ],
          "name": "stdout"
        }
      ]
    },
    {
      "cell_type": "code",
      "metadata": {
        "colab": {
          "base_uri": "https://localhost:8080/",
          "height": 150
        },
        "id": "8DMYi515mJlI",
        "outputId": "090dd0b7-be3f-4b94-e190-6fe95b88fe2f"
      },
      "source": [
        "aggregate?\r\n"
      ],
      "execution_count": 1,
      "outputs": [
        {
          "output_type": "error",
          "ename": "ERROR",
          "evalue": "ignored",
          "traceback": [
            "Error in parse(text = x, srcfile = src): <text>:3:0: unexpected end of input\n1: aggregate?\n2: \n  ^\nTraceback:\n"
          ]
        }
      ]
    }
  ]
}